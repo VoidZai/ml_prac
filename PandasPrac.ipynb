{
 "cells": [
  {
   "cell_type": "code",
   "execution_count": 2,
   "id": "72880b93-af25-463a-b02b-3fe9a1ec3959",
   "metadata": {},
   "outputs": [
    {
     "name": "stdout",
     "output_type": "stream",
     "text": [
      "pandas imported sucssfully\n",
      "numpy imported sucessfully\n"
     ]
    }
   ],
   "source": [
    "import pandas as pd\n",
    "import numpy as np\n",
    "print(\"pandas imported sucssfully\")\n",
    "print(\"numpy imported sucessfully\")"
   ]
  },
  {
   "cell_type": "code",
   "execution_count": 7,
   "id": "45d8874d-ff1f-475d-b62e-60e084cd4962",
   "metadata": {},
   "outputs": [
    {
     "name": "stdout",
     "output_type": "stream",
     "text": [
      "series ex: \n",
      " 0    3500\n",
      "1    4000\n",
      "2    4500\n",
      "dtype: int64\n"
     ]
    }
   ],
   "source": [
    "#series is single coloumn of data (like a list or array) with an index, used in Ml for Feature coloums and target columns\n",
    "#Feature coloumn ex: age, salary, temprature\n",
    "#Target variables ex: lables in classification/regression\n",
    "\n",
    "#feature coloumn for house price\n",
    "prices= pd.Series([3500,4000,4500])\n",
    "print(\"series ex: \\n\", prices)"
   ]
  },
  {
   "cell_type": "code",
   "execution_count": 14,
   "id": "14a2594c-4011-47c2-8686-cb2beea75de1",
   "metadata": {},
   "outputs": [
    {
     "name": "stdout",
     "output_type": "stream",
     "text": [
      "[0.1 0.5 0.9]\n",
      "0    0.1\n",
      "1    0.5\n",
      "2    0.9\n",
      "Name: feature_example, dtype: float64\n"
     ]
    }
   ],
   "source": [
    "#to print Series frojm a numpy array\n",
    "\n",
    "#simulating a featues in a dataset\n",
    "feature= np.array([0.1,0.5,0.9])\n",
    "series= pd.Series(feature, name=\"feature_example\") #naming a series\n",
    "print(feature)\n",
    "print(series)"
   ]
  },
  {
   "cell_type": "code",
   "execution_count": 17,
   "id": "ee3a5c78-910d-4522-92d4-205e04efa07a",
   "metadata": {},
   "outputs": [
    {
     "name": "stdout",
     "output_type": "stream",
     "text": [
      "cat     0\n",
      "dog     1\n",
      "bird    2\n",
      "dtype: int64\n"
     ]
    }
   ],
   "source": [
    "#for labled datasets\n",
    "lables= {\"cat\": 0, \"dog\": 1, \"bird\": 2}\n",
    "lable_series= pd.Series(lables)\n",
    "print(lable_series)"
   ]
  },
  {
   "cell_type": "code",
   "execution_count": 5,
   "id": "61a65b2b-64b3-4e1f-9fae-58ea4bae2a88",
   "metadata": {},
   "outputs": [
    {
     "name": "stdout",
     "output_type": "stream",
     "text": [
      "   age  income  lable\n",
      "0   25   50000      0\n",
      "1   30   80000      1\n",
      "2   35  120000      1\n",
      "0    25\n",
      "1    30\n",
      "2    35\n",
      "Name: age, dtype: int64\n"
     ]
    }
   ],
   "source": [
    "#DaraFrame is a table(like an excel sheet or sql table) with rows and coloums. Used in ML/Ai for storing darasets, feature endineering, preparing data for ML modles\n",
    "\n",
    "#storing data ex: CSV file\n",
    "#Feature engineering ex: adding/mofiy9ng coloumns\n",
    "#preparing data for ML modles ex: X_train Y_train\n",
    "\n",
    "#small dataset for ml\n",
    "data={\n",
    "    \"age\": [25,30,35], #Feature1\n",
    "    \"income\": [50000,80000,120000], #Feature2\n",
    "    \"lable\": [0,1,1] # Target variable (0=no, 1=yes)\n",
    "}\n",
    "\n",
    "df= pd.DataFrame(data)\n",
    "print(df)"
   ]
  },
  {
   "cell_type": "code",
   "execution_count": 20,
   "id": "4c34deba-9974-4404-931f-2c3ad446ea59",
   "metadata": {},
   "outputs": [
    {
     "name": "stdout",
     "output_type": "stream",
     "text": [
      "         text  sentiment\n",
      "0  I love you          1\n",
      "1  I hate you          0\n",
      "2   ML is fun          1\n"
     ]
    }
   ],
   "source": [
    "#From a list of dictionaries(common in api data)\n",
    "#Exanmple: data from a JASON api exx: for NLP tasks\n",
    "data= [\n",
    "\n",
    "    {\"text\": \"I love you\", \"sentiment\": 1},\n",
    "    {\"text\": \"I hate you\", \"sentiment\": 0},\n",
    "    {\"text\": \"ML is fun\", \"sentiment\": 1}\n",
    "]\n",
    "\n",
    "df= pd.DataFrame(data)\n",
    "print(df)"
   ]
  },
  {
   "cell_type": "code",
   "execution_count": 9,
   "id": "cb490729-61fe-4a2a-ad14-b69273adfcde",
   "metadata": {},
   "outputs": [
    {
     "name": "stdout",
     "output_type": "stream",
     "text": [
      "0    25\n",
      "1    35\n",
      "2    45\n",
      "Name: age, dtype: int64\n"
     ]
    }
   ],
   "source": [
    "#key operations \n",
    "#1) acessing coloumns aka features\n",
    "#get a single colomn (ex. for model training)\n",
    "\n",
    "data={\n",
    "    \"age\": [25,35,45], #Feature1\n",
    "    \"income\": [50000,80000,120000], #Feature2\n",
    "    \"lable\": [0,1,1] # Target variable (0=no, 1=yes)\n",
    "}\n",
    "\n",
    "df= pd.DataFrame(data)\n",
    "\n",
    "ages= df[\"age\"]\n",
    "print(ages)"
   ]
  },
  {
   "cell_type": "code",
   "execution_count": 10,
   "id": "ccc34c9c-7ce5-4b20-afa8-500afe428a45",
   "metadata": {},
   "outputs": [
    {
     "name": "stdout",
     "output_type": "stream",
     "text": [
      "   age  income  lable  log_income\n",
      "0   24   50000      0   10.819778\n",
      "1   35   80000      1   11.289782\n",
      "2   45  120000      1   11.695247\n"
     ]
    }
   ],
   "source": [
    "#2) adding a new feature(feature engineering) ex. log of income\n",
    "data={\n",
    "    \"age\": [24,35,45], #Feature1\n",
    "    \"income\": [50000,80000,120000], #Feature2\n",
    "    \"lable\": [0,1,1] # Target variable (0=no, 1=yes)\n",
    "}\n",
    "\n",
    "df= pd.DataFrame(data)\n",
    "\n",
    "df[\"log_income\"]= np.log(df[\"income\"])\n",
    "print(df)"
   ]
  },
  {
   "cell_type": "code",
   "execution_count": 11,
   "id": "05f4a91b-0e7b-4a05-bdbc-24b5153f285c",
   "metadata": {},
   "outputs": [
    {
     "name": "stdout",
     "output_type": "stream",
     "text": [
      "   age  income  lable\n",
      "1   35   80000      1\n",
      "2   45  120000      1\n"
     ]
    }
   ],
   "source": [
    "#3) filtering rows (data cleaning)ex. select rows where income>60000 (for outliner removal)\n",
    "\n",
    "data={\n",
    "    \"age\": [24,35,45], #Feature1\n",
    "    \"income\": [50000,80000,120000], #Feature2\n",
    "    \"lable\": [0,1,1] # Target variable (0=no, 1=yes)\n",
    "}\n",
    "\n",
    "df= pd.DataFrame(data)\n",
    "\n",
    "high_income= df[df[\"income\"] > 60000]\n",
    "print(high_income)"
   ]
  },
  {
   "cell_type": "code",
   "execution_count": null,
   "id": "20c50578-a28d-43b3-b1e3-ecea2a59ece7",
   "metadata": {},
   "outputs": [],
   "source": [
    "#4) handling missing data(crucial for ML) ex: adding missing values(NaN)\n"
   ]
  }
 ],
 "metadata": {
  "kernelspec": {
   "display_name": "Python 3 (ipykernel)",
   "language": "python",
   "name": "python3"
  },
  "language_info": {
   "codemirror_mode": {
    "name": "ipython",
    "version": 3
   },
   "file_extension": ".py",
   "mimetype": "text/x-python",
   "name": "python",
   "nbconvert_exporter": "python",
   "pygments_lexer": "ipython3",
   "version": "3.10.0"
  }
 },
 "nbformat": 4,
 "nbformat_minor": 5
}
