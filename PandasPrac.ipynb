{
 "cells": [
  {
   "cell_type": "code",
   "execution_count": 2,
   "id": "72880b93-af25-463a-b02b-3fe9a1ec3959",
   "metadata": {},
   "outputs": [
    {
     "name": "stdout",
     "output_type": "stream",
     "text": [
      "pandas imported sucssfully\n",
      "numpy imported sucessfully\n"
     ]
    }
   ],
   "source": [
    "import pandas as pd\n",
    "import numpy as np\n",
    "print(\"pandas imported sucssfully\")\n",
    "print(\"numpy imported sucessfully\")"
   ]
  },
  {
   "cell_type": "code",
   "execution_count": 7,
   "id": "45d8874d-ff1f-475d-b62e-60e084cd4962",
   "metadata": {},
   "outputs": [
    {
     "name": "stdout",
     "output_type": "stream",
     "text": [
      "series ex: \n",
      " 0    3500\n",
      "1    4000\n",
      "2    4500\n",
      "dtype: int64\n"
     ]
    }
   ],
   "source": [
    "#series is single coloumn of data (like a list or array) with an index, used in Ml for Feature coloums and target columns\n",
    "#Feature coloumn ex: age, salary, temprature\n",
    "#Target variables ex: lables in classification/regression\n",
    "\n",
    "#feature coloumn for house price\n",
    "prices= pd.Series([3500,4000,4500])\n",
    "print(\"series ex: \\n\", prices)"
   ]
  },
  {
   "cell_type": "code",
   "execution_count": 14,
   "id": "14a2594c-4011-47c2-8686-cb2beea75de1",
   "metadata": {},
   "outputs": [
    {
     "name": "stdout",
     "output_type": "stream",
     "text": [
      "[0.1 0.5 0.9]\n",
      "0    0.1\n",
      "1    0.5\n",
      "2    0.9\n",
      "Name: feature_example, dtype: float64\n"
     ]
    }
   ],
   "source": [
    "#to print Series frojm a numpy array\n",
    "\n",
    "#simulating a featues in a dataset\n",
    "feature= np.array([0.1,0.5,0.9])\n",
    "series= pd.Series(feature, name=\"feature_example\") #naming a series\n",
    "print(feature)\n",
    "print(series)"
   ]
  },
  {
   "cell_type": "code",
   "execution_count": 17,
   "id": "ee3a5c78-910d-4522-92d4-205e04efa07a",
   "metadata": {},
   "outputs": [
    {
     "name": "stdout",
     "output_type": "stream",
     "text": [
      "cat     0\n",
      "dog     1\n",
      "bird    2\n",
      "dtype: int64\n"
     ]
    }
   ],
   "source": [
    "#for labled datasets\n",
    "lables= {\"cat\": 0, \"dog\": 1, \"bird\": 2}\n",
    "lable_series= pd.Series(lables)\n",
    "print(lable_series)"
   ]
  },
  {
   "cell_type": "code",
   "execution_count": 18,
   "id": "61a65b2b-64b3-4e1f-9fae-58ea4bae2a88",
   "metadata": {},
   "outputs": [
    {
     "name": "stdout",
     "output_type": "stream",
     "text": [
      "   age  income  lable\n",
      "0   25   50000      0\n",
      "1   30   80000      1\n",
      "2   35  120000      1\n"
     ]
    }
   ],
   "source": [
    "#DaraFrame is a table(like an excel sheet or sql table) with rows and coloums. Used in ML/Ai for storing darasets, feature endineering, preparing data for ML modles\n",
    "\n",
    "#storing data ex: CSV file\n",
    "#Feature engineering ex: adding/mofiy9ng coloumns\n",
    "#preparing data for ML modles ex: X_train Y_train\n",
    "\n",
    "#small dataset for ml\n",
    "data={\n",
    "    \"age\": [25,30,35], #Feature1\n",
    "    \"income\": [50000,80000,120000], #Feature2\n",
    "    \"lable\": [0,1,1] # Target variable (0=no\n",
    "}\n",
    "\n",
    "df= pd.DataFrame(data)\n",
    "print(df)"
   ]
  },
  {
   "cell_type": "code",
   "execution_count": null,
   "id": "4c34deba-9974-4404-931f-2c3ad446ea59",
   "metadata": {},
   "outputs": [],
   "source": []
  }
 ],
 "metadata": {
  "kernelspec": {
   "display_name": "Python 3 (ipykernel)",
   "language": "python",
   "name": "python3"
  },
  "language_info": {
   "codemirror_mode": {
    "name": "ipython",
    "version": 3
   },
   "file_extension": ".py",
   "mimetype": "text/x-python",
   "name": "python",
   "nbconvert_exporter": "python",
   "pygments_lexer": "ipython3",
   "version": "3.10.0"
  }
 },
 "nbformat": 4,
 "nbformat_minor": 5
}
