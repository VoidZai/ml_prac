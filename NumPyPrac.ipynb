{
 "cells": [
  {
   "cell_type": "code",
   "execution_count": 4,
   "id": "2cfa653b-16ab-464c-b96d-06767cd59219",
   "metadata": {},
   "outputs": [
    {
     "name": "stdout",
     "output_type": "stream",
     "text": [
      "NumPy Imported Successfully! ✅\n"
     ]
    }
   ],
   "source": [
    "#NumPy aka Numerical Python is a library that provids support fot workig with arrays and matrices, widely used in data analysis, ml\n",
    "import numpy as np\n",
    "print(\"NumPy Imported Successfully! ✅\")"
   ]
  },
  {
   "cell_type": "code",
   "execution_count": 10,
   "id": "83ba783c-e07a-4d69-9eae-e71ed8cec23f",
   "metadata": {},
   "outputs": [
    {
     "name": "stdout",
     "output_type": "stream",
     "text": [
      "[1 2 3 4 5 6]\n",
      "<class 'numpy.ndarray'>\n",
      "int32\n"
     ]
    }
   ],
   "source": [
    "#create 1d array\n",
    "arr= np.array([1,2,3,4,5,6])\n",
    "print(arr)\n",
    "# Check type\n",
    "print(type(arr))\n",
    "# check datatype of the elem\n",
    "print(arr.dtype)"
   ]
  },
  {
   "cell_type": "code",
   "execution_count": 17,
   "id": "604deed2-3dd1-4bde-b974-c8adb3f10e0b",
   "metadata": {},
   "outputs": [
    {
     "name": "stdout",
     "output_type": "stream",
     "text": [
      "[[1 2 3 4]\n",
      " [5 6 7 8]]\n",
      "2\n",
      "the addition of the elements of a and b is:  [5 7 9]\n",
      "the subtracttion of the elements of a from b is:  [-3 -3 -3]\n",
      "the multiplication of the elements of a and b is:  [ 4 10 18]\n",
      "the division of eleemnts of a wrt to b is:  [0.25 0.4  0.5 ]\n",
      "adding +2 to all the elemets of c:  [5 4 3]\n",
      "multiplying 3 to all the elements of c:  [9 6 3]\n"
     ]
    }
   ],
   "source": [
    "#create 2d array\n",
    "arr_2d= np.array([\n",
    "    [1,2,3,4], \n",
    "    [5,6,7,8]\n",
    "])\n",
    "\n",
    "print(arr_2d)\n",
    "\n",
    "#check dimention\n",
    "print(arr_2d.ndim)\n",
    "\n",
    "#basic operations(elment wise operations)\n",
    "a= np.array([1,2,3])\n",
    "b= np.array([4,5,6])\n",
    "\n",
    "print(\"the addition of the elements of a and b is: \", a+b)\n",
    "print(\"the subtracttion of the elements of a from b is: \", a-b)\n",
    "print(\"the multiplication of the elements of a and b is: \", a*b)\n",
    "print(\"the division of eleemnts of a wrt to b is: \", a/b)\n",
    "\n",
    "#scalar operations\n",
    "c= np.array([3,2,1])\n",
    "\n",
    "print(\"adding +2 to all the elemets of c: \", c+2)\n",
    "print(\"multiplying 3 to all the elements of c: \", c*3)"
   ]
  },
  {
   "cell_type": "code",
   "execution_count": 24,
   "id": "c825b549-2b0d-400a-82e7-a11ae2407e2f",
   "metadata": {},
   "outputs": [
    {
     "name": "stdout",
     "output_type": "stream",
     "text": [
      "[[[ 1  2  3  4]\n",
      "  [ 5  6  7  8]\n",
      "  [ 9 10 11 12]]\n",
      "\n",
      " [[13 14 15 16]\n",
      "  [17 18 19 20]\n",
      "  [21 22 23 24]]]\n",
      "the dimention of the array is:  3\n",
      "the shap of the array is:  (2, 3, 4)\n",
      "the array present at 1st depth: \n",
      " [[ 1  2  3  4]\n",
      " [ 5  6  7  8]\n",
      " [ 9 10 11 12]]\n",
      "the second row of the first depth array: \n",
      " [5 6 7 8]\n",
      "acessing a specific element present at 2nd depth array, 3rd row, 4th coloumn:  24\n"
     ]
    }
   ],
   "source": [
    "#create 3d array (stacking of 2d arrays)\n",
    "arr_3d= np.array([\n",
    "    [\n",
    "        [1,2,3,4], \n",
    "        [5,6,7,8], \n",
    "        [9,10,11,12]\n",
    "    ],\n",
    "    [\n",
    "        [13,14,15,16],\n",
    "        [17,18,19,20],\n",
    "        [21,22,23,24]\n",
    "    ]\n",
    "])\n",
    "print(arr_3d)\n",
    "\n",
    "#dimentiion\n",
    "print(\"the dimention of the array is: \", arr_3d.ndim)\n",
    "\n",
    "#shape\n",
    "print(\"the shap of the array is: \", arr_3d.shape) # 2 depth, 3 rows, 4 coloumns\n",
    "\n",
    "#acessing the elements of 3d arrays\n",
    "print(\"the array present at 1st depth: \\n\", arr_3d[0])\n",
    "\n",
    "print(\"the second row of the first depth array: \\n\", arr_3d[0,1])\n",
    "\n",
    "print(\"acessing a specific element present at 2nd depth array, 3rd row, 4th coloumn: \", arr_3d[1,2,3])"
   ]
  },
  {
   "cell_type": "code",
   "execution_count": 14,
   "id": "d8becf75-43f7-43fc-a609-1a3f5c4c8561",
   "metadata": {},
   "outputs": [
    {
     "name": "stdout",
     "output_type": "stream",
     "text": [
      "[[[[ 1  2  3  4]\n",
      "   [ 5  6  7  8]\n",
      "   [ 9 10 11 12]]\n",
      "\n",
      "  [[13 14 15 16]\n",
      "   [17 18 19 20]\n",
      "   [21 22 23 24]]]\n",
      "\n",
      "\n",
      " [[[25 26 27 28]\n",
      "   [29 30 31 32]\n",
      "   [33 34 35 36]]\n",
      "\n",
      "  [[37 38 39 40]\n",
      "   [41 42 43 44]\n",
      "   [45 46 47 48]]]]\n",
      "Shape: (2, 2, 3, 4)\n"
     ]
    }
   ],
   "source": [
    "import numpy as np\n",
    "\n",
    "# Create a 4D array with shape (2, 2, 3, 4)\n",
    "tensor = np.array([\n",
    "    [\n",
    "        [[1, 2, 3, 4], [5, 6, 7, 8], [9, 10, 11, 12]],  # 3x4 matrix\n",
    "        [[13, 14, 15, 16], [17, 18, 19, 20], [21, 22, 23, 24]]  # 3x4 matrix\n",
    "    ],\n",
    "    [\n",
    "        [[25, 26, 27, 28], [29, 30, 31, 32], [33, 34, 35, 36]],  # 3x4 matrix\n",
    "        [[37, 38, 39, 40], [41, 42, 43, 44], [45, 46, 47, 48]]  # 3x4 matrix\n",
    "    ]\n",
    "])\n",
    "\n",
    "print(tensor)\n",
    "print(\"Shape:\", tensor.shape)  # (2, 2, 3, 4)"
   ]
  },
  {
   "cell_type": "code",
   "execution_count": 6,
   "id": "9cc40c6e-505f-4295-baa8-90177a4f8c67",
   "metadata": {},
   "outputs": [
    {
     "name": "stdout",
     "output_type": "stream",
     "text": [
      "[[ 1  2  3  4]\n",
      " [ 5  6  7  8]\n",
      " [ 9 10 11 12]\n",
      " [13 14 15 16]]\n",
      "(4, 4)\n"
     ]
    }
   ],
   "source": [
    "#assignement create 4x4 matrix and find its shape\n",
    "fourbyfour= np.array([\n",
    "     [1,2,3,4], \n",
    "     [5,6,7,8],\n",
    "     [9,10,11,12], \n",
    "     [13,14,15,16]\n",
    "])\n",
    "\n",
    "print(fourbyfour)\n",
    "print(fourbyfour.shape)"
   ]
  },
  {
   "cell_type": "code",
   "execution_count": 3,
   "id": "df90b731-56a7-434a-a1b9-933f6c803e60",
   "metadata": {},
   "outputs": [
    {
     "name": "stdout",
     "output_type": "stream",
     "text": [
      "[6 7 8 9]\n",
      "[2 4 6 8]\n",
      "[0.1 0.2 0.3 0.4]\n",
      "[ 1  4  9 16]\n"
     ]
    }
   ],
   "source": [
    "arr= np.array([1,2,3,4])\n",
    "\n",
    "print( arr + 5) # adds + 5 to each elements\n",
    "print( arr * 2) # multiply 2 to each elements\n",
    "print( arr / 10) # divides 10 from each elment\n",
    "print( arr ** 2) # sqaure each elemnts"
   ]
  },
  {
   "cell_type": "code",
   "execution_count": 30,
   "id": "8228c593-0c68-4bcd-bdda-6479947f06b3",
   "metadata": {},
   "outputs": [
    {
     "name": "stdout",
     "output_type": "stream",
     "text": [
      "[[ 6  8]\n",
      " [10 12]]\n",
      "[[ 5 12]\n",
      " [21 32]]\n",
      "[[19 22]\n",
      " [43 50]]\n"
     ]
    }
   ],
   "source": [
    "a= np.array([\n",
    "    [1,2], [3,4]\n",
    "])\n",
    "\n",
    "b= np.array([\n",
    "    [5,6], [7,8]\n",
    "])\n",
    "\n",
    "print(a + b) #matrix addition\n",
    "print(a * b) #element wise multiplication\n",
    "print(np.dot(a, b)) #mateix multiplication"
   ]
  },
  {
   "cell_type": "code",
   "execution_count": 11,
   "id": "3202cf5c-4ed3-4fa3-9985-af52e836211e",
   "metadata": {},
   "outputs": [
    {
     "name": "stdout",
     "output_type": "stream",
     "text": [
      "[[ 1  2  3  4  5]\n",
      " [ 6  7  8  9 10]\n",
      " [11 12 13 14 15]\n",
      " [16 17 18 19 20]\n",
      " [21 22 23 24 25]]\n",
      "the sum of the above 5x5 matrix is  325\n",
      "the mean of the abve 5x5 matrix is 13.0\n"
     ]
    }
   ],
   "source": [
    "#assignment create 5x5 matrix with random values and find its mean and sum.\n",
    "fivebyfive= np.array([\n",
    "    [1,2,3,4,5],\n",
    "    [6,7,8,9,10],\n",
    "    [11,12,13,14,15],\n",
    "    [16,17,18,19,20],\n",
    "    [21,22,23,24,25]\n",
    "])\n",
    "\n",
    "print(fivebyfive)\n",
    "print(\"the sum of the above 5x5 matrix is \", np.sum(fivebyfive)) \n",
    "print(\"the mean of the abve 5x5 matrix is\", np.mean(fivebyfive))"
   ]
  },
  {
   "cell_type": "code",
   "execution_count": 12,
   "id": "a78b09d2-983b-479b-83d4-c4fa1a1d2d47",
   "metadata": {},
   "outputs": [
    {
     "name": "stdout",
     "output_type": "stream",
     "text": [
      "[[79 27 19 13 99]\n",
      " [86 42 18 10 94]\n",
      " [78 42 91 18 68]\n",
      " [86 31 42 89 53]\n",
      " [27 83 71 57 28]]\n",
      "Sum: 1351\n",
      "Mean: 54.04\n"
     ]
    }
   ],
   "source": [
    "#assignment generate randome values for a 5x5 matrix and fine mean and sum of that matrix.\n",
    "matrix = np.random.randint(1, 101, (5,5))  # Random numbers between 1-100\n",
    "print(matrix)\n",
    "\n",
    "print(\"Sum:\", np.sum(matrix))\n",
    "print(\"Mean:\", np.mean(matrix))\n"
   ]
  },
  {
   "cell_type": "code",
   "execution_count": 13,
   "id": "2321c730-8b25-4923-9945-1de9a66b1115",
   "metadata": {},
   "outputs": [
    {
     "name": "stdout",
     "output_type": "stream",
     "text": [
      "[[0. 0. 0.]\n",
      " [0. 0. 0.]\n",
      " [0. 0. 0.]]\n",
      "[[1. 1.]\n",
      " [1. 1.]]\n",
      "[[1. 0. 0. 0.]\n",
      " [0. 1. 0. 0.]\n",
      " [0. 0. 1. 0.]\n",
      " [0. 0. 0. 1.]]\n"
     ]
    }
   ],
   "source": [
    "print( np.zeros((3,3))) #3x3 matrix of zeros\n",
    "print(np.ones((2,2))) #2x2 matrix of ones\n",
    "print(np.eye((4))) #4x4 identity matrix"
   ]
  },
  {
   "cell_type": "code",
   "execution_count": 16,
   "id": "11c72f1b-e8fc-4e66-bc9c-d7f2497c34de",
   "metadata": {},
   "outputs": [
    {
     "name": "stdout",
     "output_type": "stream",
     "text": [
      "[[0.62554741 0.27364167 0.15762278]\n",
      " [0.45658695 0.78656051 0.07892692]\n",
      " [0.31484431 0.51150276 0.22410258]]\n",
      "[[17 16 16]\n",
      " [39 36 14]\n",
      " [21 19 32]]\n"
     ]
    }
   ],
   "source": [
    "print(np.random.rand(3,3)) #random numbers between 0 & 1 in 3x3 matrix\n",
    "print(np.random.randint(10, 50, (3,3))) #random integer from 10 to 50 in 3x3 matrix"
   ]
  },
  {
   "cell_type": "code",
   "execution_count": 19,
   "id": "d57dc03e-7c95-43fe-8baa-4fc2c20c6cb4",
   "metadata": {},
   "outputs": [
    {
     "name": "stdout",
     "output_type": "stream",
     "text": [
      "[[1 2]\n",
      " [3 4]\n",
      " [5 6]]\n",
      "[[1 4]\n",
      " [2 5]\n",
      " [3 6]]\n"
     ]
    }
   ],
   "source": [
    "arr= np.array([\n",
    "    [1,2,3],\n",
    "    [4,5,6]\n",
    "])\n",
    "\n",
    "print(arr.reshape(3,2)) # change shape\n",
    "print(arr.T) #transpose the matrix"
   ]
  },
  {
   "cell_type": "code",
   "execution_count": 22,
   "id": "5837a930-2c2e-4a7f-b155-263d1741bc9e",
   "metadata": {},
   "outputs": [
    {
     "name": "stdout",
     "output_type": "stream",
     "text": [
      "[[39 46  1 23 17 37]\n",
      " [48 13 48 49 31 22]\n",
      " [24  4 34 34 30 42]\n",
      " [ 5 35 37 19  6 49]\n",
      " [ 8 18 25 28 15 20]\n",
      " [12 22  6  8  6 38]]\n",
      "(6, 6)\n",
      "the transpose of the above 6x6 is:  [[39 48 24  5  8 12]\n",
      " [46 13  4 35 18 22]\n",
      " [ 1 48 34 37 25  6]\n",
      " [23 49 34 19 28  8]\n",
      " [17 31 30  6 15  6]\n",
      " [37 22 42 49 20 38]]\n",
      "the mean of the above 6x6 matrix is:  24.97222222222222\n"
     ]
    }
   ],
   "source": [
    "#assignment create 6x6 random matrix, find its transpose and calculatr its mean\n",
    "sixbysix= np.random.randint(0, 50, (6,6))\n",
    "print(sixbysix)\n",
    "print(sixbysix.shape)\n",
    "print(\"the transpose of the above 6x6 is: \", sixbysix.T)\n",
    "print(\"the mean of the above 6x6 matrix is: \", np.mean(sixbysix))"
   ]
  },
  {
   "cell_type": "code",
   "execution_count": 5,
   "id": "d7325ac0-ecfc-455a-acda-3be0fcb820ea",
   "metadata": {},
   "outputs": [
    {
     "name": "stdout",
     "output_type": "stream",
     "text": [
      "original matrix:\n",
      " [[88 95  6 39 46  1]\n",
      " [ 1 63 78 49 96 56]\n",
      " [45 37 53 57 61 50]\n",
      " [22 71 97 14 48 17]\n",
      " [53 62 18 23 55 57]\n",
      " [16 75 70 34 80 29]]\n",
      "the min value in the matrix is: 1\n",
      "the max value in the matrix is : 97\n",
      "normalized matrix:\n",
      " [[0.90625    0.97916667 0.05208333 0.39583333 0.46875    0.        ]\n",
      " [0.         0.64583333 0.80208333 0.5        0.98958333 0.57291667]\n",
      " [0.45833333 0.375      0.54166667 0.58333333 0.625      0.51041667]\n",
      " [0.21875    0.72916667 1.         0.13541667 0.48958333 0.16666667]\n",
      " [0.54166667 0.63541667 0.17708333 0.22916667 0.5625     0.58333333]\n",
      " [0.15625    0.77083333 0.71875    0.34375    0.82291667 0.29166667]]\n"
     ]
    }
   ],
   "source": [
    "#assignment normalizeing matrix by scaling the values between 0 and 1 using min-max normalization\n",
    "matrix= np.random.randint(1,101,(6,6)) \n",
    "normalized_matrix= (matrix - matrix.min())/(matrix.max() - matrix.min())\n",
    "\n",
    "print(\"original matrix:\\n\", matrix)\n",
    "print(\"the min value in the matrix is:\", matrix.min())\n",
    "print(\"the max value in the matrix is :\", matrix.max())\n",
    "print(\"normalized matrix:\\n\", normalized_matrix)"
   ]
  },
  {
   "cell_type": "code",
   "execution_count": 25,
   "id": "761ef5b8-639a-42fd-9cc1-56c140f34433",
   "metadata": {},
   "outputs": [
    {
     "name": "stdout",
     "output_type": "stream",
     "text": [
      "\n",
      "Z-score Standardized Matrix:\n",
      " [[-0.34242299  0.28136303 -1.74978869  0.61182911 -0.78990542 -1.89212462]\n",
      " [-0.55206972  0.79815227  1.20616502 -0.3893458  -0.24154133 -0.13880451]\n",
      " [-1.09715121 -0.40768929 -0.76447079  1.61300402  1.71690185  1.17618557]\n",
      " [ 1.33475084  1.55610983  0.2548236   0.34484913 -0.98574973  0.16802651]\n",
      " [ 1.41860953 -1.44126777  0.15289416 -1.52401069 -0.67239882  0.95702056]\n",
      " [-0.76171645 -0.78666807  0.9003767  -0.65632577  0.97269344 -0.27030352]]\n",
      "\n",
      "Max-Min normalaization Matrix:\n",
      " [[0.47311828 0.59139785 0.06451613 0.49462366 0.05376344 0.11827957]\n",
      " [0.41935484 0.75268817 1.         0.33333333 0.20430108 0.5483871 ]\n",
      " [0.27956989 0.37634409 0.37634409 0.65591398 0.74193548 0.87096774]\n",
      " [0.90322581 0.98924731 0.69892473 0.4516129  0.         0.62365591]\n",
      " [0.92473118 0.05376344 0.66666667 0.15053763 0.08602151 0.8172043 ]\n",
      " [0.3655914  0.25806452 0.90322581 0.29032258 0.53763441 0.51612903]]\n"
     ]
    }
   ],
   "source": [
    "#min-max normalization vs z-score standardization\n",
    "from sklearn.preprocessing import StandardScaler\n",
    "\n",
    "# Your original matrix\n",
    "matrix = np.array([\n",
    "    [49, 60, 11, 51, 10, 16],\n",
    "    [44, 75, 98, 36, 24, 56],\n",
    "    [31, 40, 40, 66, 74, 86],\n",
    "    [89, 97, 70, 47, 5, 63],\n",
    "    [91, 10, 67, 19, 13, 81],\n",
    "    [39, 29, 89, 32, 55, 53]\n",
    "])\n",
    "\n",
    "# Apply Z-score Standardization\n",
    "scaler = StandardScaler()\n",
    "standardized_matrix = scaler.fit_transform(matrix)\n",
    "\n",
    "#apply max-min normalization\n",
    "normalized_matrix= (matrix - matrix.min())/(matrix.max() - matrix.min())\n",
    "\n",
    "print(\"\\nZ-score Standardized Matrix:\\n\", standardized_matrix)\n",
    "print(\"\\nMax-Min normalaization Matrix:\\n\", normalized_matrix)\n"
   ]
  },
  {
   "cell_type": "code",
   "execution_count": 8,
   "id": "cf2cd6e4-6d25-4f33-b041-2c2edab441aa",
   "metadata": {},
   "outputs": [
    {
     "name": "stdout",
     "output_type": "stream",
     "text": [
      "10\n",
      "40\n",
      "[20 30 40]\n"
     ]
    }
   ],
   "source": [
    "arr= np.array(\n",
    "    [10,20,30,40] #1d array\n",
    ")\n",
    "\n",
    "print(arr[0]) #First element\n",
    "print(arr[-1]) #last element\n",
    "print(arr[1:4])  # Slice the array"
   ]
  },
  {
   "cell_type": "code",
   "execution_count": 34,
   "id": "f1a65f9a-b493-4e40-9ce9-e4c1dbfa9b80",
   "metadata": {},
   "outputs": [
    {
     "name": "stdout",
     "output_type": "stream",
     "text": [
      "[[1 2 3]\n",
      " [4 5 6]]\n",
      "2\n",
      "[2 5]\n",
      "[4 5 6]\n"
     ]
    }
   ],
   "source": [
    "matrix= np.array([\n",
    "    [1,2,3],\n",
    "    [4,5,6]\n",
    "])\n",
    "\n",
    "print(matrix)\n",
    "print(matrix[0, 1]) #row0, column 1\n",
    "print(matrix[:,1]) #all row column 1\n",
    "print(matrix[1,:]) #row1, all colomun"
   ]
  },
  {
   "cell_type": "code",
   "execution_count": 37,
   "id": "5dd4d456-80c9-41cb-a45d-9ff00c26eb05",
   "metadata": {},
   "outputs": [
    {
     "name": "stdout",
     "output_type": "stream",
     "text": [
      "matrix: \n",
      " [[47 38 22 20]\n",
      " [29 26 42 45]\n",
      " [ 7 37  4 40]\n",
      " [40  7 12 43]]\n",
      "the second column in the above matrix is: \n",
      " [38 26 37  7]\n"
     ]
    }
   ],
   "source": [
    "#assignment create a 4x4 matrix ans extract the second column\n",
    "fourbyfour= np.random.randint(0, 50, (4,4))\n",
    "\n",
    "print(\"matrix: \\n\", fourbyfour)\n",
    "print(\"the second column in the above matrix is: \\n\", fourbyfour[:, 1])"
   ]
  },
  {
   "cell_type": "code",
   "execution_count": 38,
   "id": "f3e6caf8-72f0-4f15-8fa0-55046488d512",
   "metadata": {},
   "outputs": [
    {
     "name": "stdout",
     "output_type": "stream",
     "text": [
      "matrix: \n",
      " [[36 49 17 44 29]\n",
      " [34 24 15 15  3]\n",
      " [ 9  7 43 36  5]\n",
      " [31 49 30 27 33]\n",
      " [21  2 34  4 28]]\n",
      "3rd row of the above matrix: \n",
      " [ 9  7 43 36  5]\n"
     ]
    }
   ],
   "source": [
    "#assignment create a 5x5 matrix and extract third row\n",
    "fivebyfive= np.random.randint(0, 50, (5,5))\n",
    "\n",
    "print(\"matrix: \\n\", fivebyfive)\n",
    "print(\"3rd row of the above matrix: \\n\", fivebyfive[2, :])"
   ]
  },
  {
   "cell_type": "code",
   "execution_count": 41,
   "id": "76636e77-574c-4c37-9f34-bcf6c65a2a8f",
   "metadata": {},
   "outputs": [
    {
     "name": "stdout",
     "output_type": "stream",
     "text": [
      "matrix: \n",
      " [[45 13 14 12]\n",
      " [48 20 47 25]\n",
      " [ 9 40 29 12]\n",
      " [16 11 22 13]]\n",
      "the diagonal elements are \n",
      " [45 20 29 13]\n",
      "the diagonal elements are \n",
      " 107\n"
     ]
    }
   ],
   "source": [
    "#assignment creatre 4x4 matrix and extract the diagonal elements\n",
    "fourbyfour= np.random.randint(0,50,(4,4))\n",
    "\n",
    "print(\"matrix: \\n\", fourbyfour)\n",
    "print(\"the diagonal elements are \\n\", np.diag(fourbyfour))\n",
    "print(\"the diagonal elements are \\n\", np.sum(np.diag(fourbyfour)))"
   ]
  },
  {
   "cell_type": "code",
   "execution_count": 44,
   "id": "e96afc47-1c8a-4715-9f66-540ef7979953",
   "metadata": {},
   "outputs": [
    {
     "name": "stdout",
     "output_type": "stream",
     "text": [
      "matrix: \n",
      " [[31 35 40 38 39]\n",
      " [13 41 30 27 40]\n",
      " [27  3 43 23 24]\n",
      " [ 9 39  9  7  2]\n",
      " [29 16 41  3 41]]\n",
      "the diagonal elements are \n",
      " [31 41 43  7 41]\n",
      "the sum of diagonal elements are \n",
      " 163\n"
     ]
    }
   ],
   "source": [
    "#assignment creatre 5x5 matrix and extract the diagonal elements and find its sum\n",
    "fivebyfive= np.random.randint(0,50,(5,5))\n",
    "\n",
    "print(\"matrix: \\n\", fivebyfive)\n",
    "print(\"the diagonal elements are \\n\", np.diag(fivebyfive))\n",
    "print(\"the sum of diagonal elements are \\n\", np.sum(np.diag(fivebyfive)))"
   ]
  },
  {
   "cell_type": "code",
   "execution_count": 46,
   "id": "5a841ee3-b9b4-42e5-b016-e3364d4ce49e",
   "metadata": {},
   "outputs": [
    {
     "name": "stdout",
     "output_type": "stream",
     "text": [
      "matrix: \n",
      " [[48 29 43 36 26  2]\n",
      " [35 35 20 13  9  1]\n",
      " [47  8 40 14 39 10]\n",
      " [18  6 14 12 24 10]\n",
      " [29 31 15  0  7  0]\n",
      " [ 7 15  9 26 33  4]]\n",
      "last coloumn of the above matrix: \n",
      " [ 2  1 10 10  0  4]\n"
     ]
    }
   ],
   "source": [
    "#assignment create a 6x6 matrix and extract the last coloumn\n",
    "sixbysix= np.random.randint(0, 50, (6,6))\n",
    "\n",
    "print(\"matrix: \\n\", sixbysix)\n",
    "print(\"last coloumn of the above matrix: \\n\", sixbysix[:, -1])"
   ]
  },
  {
   "cell_type": "code",
   "execution_count": 6,
   "id": "6995cde4-6325-4172-a824-ded6279270c2",
   "metadata": {},
   "outputs": [
    {
     "name": "stdout",
     "output_type": "stream",
     "text": [
      "2\n",
      "[[2 3]\n",
      " [5 6]]\n"
     ]
    }
   ],
   "source": [
    "arr_2d = np.array([[1, 2, 3], [4, 5, 6]])\n",
    "\n",
    "# Access the element in the first row, second column\n",
    "print(arr_2d[0, 1])  # 2\n",
    "\n",
    "# Slice the array\n",
    "print(arr_2d[:, 1:3])  # [[2 3]\n",
    "                       #  [5 6]]"
   ]
  },
  {
   "cell_type": "code",
   "execution_count": 13,
   "id": "2cd14722-64e5-4f27-a544-872a80aece80",
   "metadata": {},
   "outputs": [
    {
     "name": "stdout",
     "output_type": "stream",
     "text": [
      "[[0.62298247 0.00552206 0.07576561]]\n",
      "[[10.62298247 10.00552206 10.07576561]]\n"
     ]
    }
   ],
   "source": [
    "#broadcasting in numpy\n",
    "arr= np.random.rand(1,3)\n",
    "print(arr)\n",
    "#hres 10 is broadcasted into a matrix like this [10, 10, 10] then added to the matrix in arr var\n",
    "result= arr+ 10 \n",
    "print(result)"
   ]
  },
  {
   "cell_type": "code",
   "execution_count": 16,
   "id": "1b170ed9-65e2-4f6a-ab29-30fe3b2af879",
   "metadata": {},
   "outputs": [
    {
     "name": "stdout",
     "output_type": "stream",
     "text": [
      "[[[11 22 33]\n",
      "  [14 25 36]]]\n"
     ]
    }
   ],
   "source": [
    "arr_2d= np.array([\n",
    "    [[1,2,3], \n",
    "     [4,5,6]]\n",
    "])\n",
    "\n",
    "arr_1d= np.array([10,20,30])\n",
    "#here the 1d array [10,20,30] is broadcsated in the form [[10,20,30], [10,20,30]] and then added to the 2d array\n",
    "result= arr_2d + arr_1d\n",
    "print(result)"
   ]
  },
  {
   "cell_type": "code",
   "execution_count": 21,
   "id": "15f15274-854a-401e-84a3-18d653d77a35",
   "metadata": {},
   "outputs": [
    {
     "name": "stdout",
     "output_type": "stream",
     "text": [
      "3x1: \n",
      " [[1]\n",
      " [2]\n",
      " [3]]\n",
      "1x4: \n",
      " [10 20 30 40]\n",
      "adding 3x1 + 1x4: \n",
      " [[11 21 31 41]\n",
      " [12 22 32 42]\n",
      " [13 23 33 43]]\n"
     ]
    }
   ],
   "source": [
    "arr_3x1= np.array([[1], [2], [3]])\n",
    "arr_1x4= np.array([10,20,30,40])\n",
    "\n",
    "result= arr_3x1 + arr_1x4\n",
    "print(\"3x1: \\n\", arr_3x1)\n",
    "print(\"1x4: \\n\", arr_1x4)\n",
    "print(\"adding 3x1 + 1x4: \\n\", result)\n",
    "# here the 3x1 matrix is broadcasted to [[1,1,1,1], [2,2,2,2], [3,3,3,3]]\n",
    "#the 1x4 matrix is broadcared to [[10,20,30,40], [10,20,30,40], [10,20,30]]\n",
    "#atlast the addition is performed to the above two broadcasted mateices and the result in given"
   ]
  },
  {
   "cell_type": "code",
   "execution_count": 25,
   "id": "56fd089b-fa9c-4f38-ab8f-ae12d078b419",
   "metadata": {},
   "outputs": [
    {
     "name": "stdout",
     "output_type": "stream",
     "text": [
      "Error:  operands could not be broadcast together with shapes (2,3) (4,) \n"
     ]
    }
   ],
   "source": [
    "arr_2x3= np.array([\n",
    "     [1,2,3],\n",
    "     [4,5,6]\n",
    "])\n",
    "\n",
    "arr_1x4= np.array([10,20,30,40])\n",
    "#accc to the broadcast rule the missmatched matrices which cannot be streached/broadcasted logically will throw a ValueError\n",
    "#acc to broadcast rule any matrices which are undergoing an opretion must have an equal tailing dimention or 1 as a tailing dimention\n",
    "try:\n",
    "    result= arr_2x3 + arr_1x4\n",
    "except ValueError as err:\n",
    "    print(\"Error: \", err)"
   ]
  },
  {
   "cell_type": "code",
   "execution_count": 28,
   "id": "ad0bd503-1f26-4aca-ab1b-ab44a2201c22",
   "metadata": {},
   "outputs": [
    {
     "name": "stdout",
     "output_type": "stream",
     "text": [
      "the inverse of the the matrix A is: \n",
      " [[ 0.6 -0.7]\n",
      " [-0.2  0.4]]\n",
      "the determenint of A is: \n",
      " 10.000000000000002\n",
      "A * A_inv: \n",
      " [[ 1.00000000e+00 -1.11022302e-16]\n",
      " [ 1.11022302e-16  1.00000000e+00]]\n"
     ]
    }
   ],
   "source": [
    "A= np.array([\n",
    "    [4,7],\n",
    "    [2,6]\n",
    "])\n",
    "\n",
    "A_inv= np.linalg.inv(A)\n",
    "print(\"the inverse of the the matrix A is: \\n\", A_inv)\n",
    "\n",
    "A_det= np.linalg.det(A)\n",
    "print(\"the determenint of A is: \\n\", A_det)\n",
    "#vrify if A_inv is the inverse of matrix A using A.A^-1 = A^-1.A= I\n",
    "identity= np.dot(A, A_inv)\n",
    "print(\"A * A_inv: \\n\", identity)"
   ]
  },
  {
   "cell_type": "code",
   "execution_count": 31,
   "id": "7e8e8f77-0d5b-494d-be63-57773aaf49f5",
   "metadata": {},
   "outputs": [
    {
     "name": "stdout",
     "output_type": "stream",
     "text": [
      "the solution matrix X is :\n",
      " [0.9 0.2]\n"
     ]
    }
   ],
   "source": [
    "#solving linear equations by using formula A.X= B where,\n",
    "#A is the coefficiet matrix\n",
    "#X is the variable matrix\n",
    "#B is the constant matrix\n",
    "# hence the solution will be X= A^-1.B\n",
    "\n",
    "A= np.array([\n",
    "    [4,7],\n",
    "    [2,6]\n",
    "])\n",
    "B= np.array([5,3])\n",
    "\n",
    "X= np.dot(np.linalg.inv(A), B)\n",
    "print(\"the solution matrix X is :\\n\", X)"
   ]
  },
  {
   "cell_type": "code",
   "execution_count": 34,
   "id": "2d6707d1-add0-4cf8-a3aa-0f868d4063f3",
   "metadata": {},
   "outputs": [
    {
     "name": "stdout",
     "output_type": "stream",
     "text": [
      "Error Singular matrix\n"
     ]
    }
   ],
   "source": [
    "#a singular matrix is the matrix which has the determinant to be zero and it cannot be invertible\n",
    "C= np.array([\n",
    "    [1,2],\n",
    "    [2,4]\n",
    "])\n",
    "\n",
    "try:\n",
    "    C_inv= np.linalg.inv(C)\n",
    "except np.linalg.LinAlgError as err:\n",
    "    print(\"Error\", err)"
   ]
  },
  {
   "cell_type": "code",
   "execution_count": 12,
   "id": "2a8b056a-c114-46dd-ab34-d69f4943fe3e",
   "metadata": {},
   "outputs": [
    {
     "name": "stdout",
     "output_type": "stream",
     "text": [
      "Eigenvalues: [5. 2.]\n",
      "Eigenvectors:\n",
      " [[ 0.89442719 -0.70710678]\n",
      " [ 0.4472136   0.70710678]]\n",
      "A * v_1: [4.47213595 2.23606798]\n",
      "lambda_1 * v_1: [4.47213595 2.23606798]\n"
     ]
    }
   ],
   "source": [
    "#verify using A * v_1 = lambda_1 * v_1\n",
    "import numpy as np\n",
    "\n",
    "# Define a 2x2 matrix\n",
    "A = np.array([[4, 2], [1, 3]])\n",
    "\n",
    "# Compute eigenvalues and eigenvectors\n",
    "eigenvalues, eigenvectors = np.linalg.eig(A)\n",
    "\n",
    "print(\"Eigenvalues:\", eigenvalues)\n",
    "print(\"Eigenvectors:\\n\", eigenvectors)\n",
    "\n",
    "# Verify the first eigenvalue and eigenvector\n",
    "lambda_1 = eigenvalues[0]\n",
    "v_1 = eigenvectors[:, 0]  # Extract the first eigenvector as a 1D array\n",
    "\n",
    "# Compute A * v_1\n",
    "Av_1 = np.dot(A, v_1)\n",
    "\n",
    "# Compute lambda_1 * v_1\n",
    "lambda_v_1 = lambda_1 * v_1\n",
    "\n",
    "print(\"A * v_1:\", Av_1)\n",
    "print(\"lambda_1 * v_1:\", lambda_v_1)"
   ]
  },
  {
   "cell_type": "code",
   "execution_count": 16,
   "id": "5b575166-c168-4c34-b387-8b55dce25a25",
   "metadata": {},
   "outputs": [
    {
     "name": "stdout",
     "output_type": "stream",
     "text": [
      "matrix:\n",
      " [[3 1]\n",
      " [1 3]]\n",
      "eignevalue: [4. 2.]\n",
      "eigenvector: \n",
      " [[ 0.70710678 -0.70710678]\n",
      " [ 0.70710678  0.70710678]]\n"
     ]
    }
   ],
   "source": [
    "#assignment compute the eigenvalues and eignevectord of the following matrix [[3,1], [1,3]]\n",
    "matrix= np.array([\n",
    "    [3,1],\n",
    "    [1,3]\n",
    "])\n",
    "\n",
    "print(\"matrix:\\n\", matrix)\n",
    "\n",
    "eigenval, eigenvec= np.linalg.eig(matrix)\n",
    "print(\"eignevalue:\", eigenval)\n",
    "print(\"eigenvector: \\n\", eigenvec)\n"
   ]
  },
  {
   "cell_type": "code",
   "execution_count": 17,
   "id": "11e76ee4-e42b-4a6c-86c7-1633f5e3ce27",
   "metadata": {},
   "outputs": [
    {
     "name": "stdout",
     "output_type": "stream",
     "text": [
      "Av_1: \n",
      " [2.82842712 2.82842712]\n",
      "lambda_1v_1: \n",
      " [2.82842712 2.82842712]\n"
     ]
    }
   ],
   "source": [
    "#verify that A.v=lambda.v\n",
    "v_1= eigenvec[:,0]\n",
    "lambda_1= eigenval[0]\n",
    "\n",
    "Av_1= np.dot(matrix, v_1)\n",
    "lambda_1v_1= lambda_1 * v_1\n",
    "\n",
    "print(\"Av_1: \\n\", Av_1)\n",
    "print(\"lambda_1v_1: \\n\", lambda_1v_1)"
   ]
  },
  {
   "cell_type": "code",
   "execution_count": 20,
   "id": "e5450043-6939-43cb-b380-743665711d34",
   "metadata": {},
   "outputs": [
    {
     "name": "stdout",
     "output_type": "stream",
     "text": [
      "the matrix: \n",
      " [[3 1]\n",
      " [2 4]]\n",
      "inverted matrix: \n",
      " [[ 0.4 -0.1]\n",
      " [-0.2  0.3]]\n",
      "[[1. 0.]\n",
      " [0. 1.]]\n"
     ]
    }
   ],
   "source": [
    "#assignment find the inverse of the following matrix [[3,1], [2,4]]\n",
    "matrix= np.array([\n",
    "    [3,1],\n",
    "    [2,4]\n",
    "])\n",
    "\n",
    "print(\"the matrix: \\n\", matrix)\n",
    "\n",
    "invmatrix= np.linalg.inv(matrix)\n",
    "print(\"inverted matrix: \\n\", invmatrix)\n",
    "\n",
    "#verify matrix * invmatrix= I\n",
    "print(np.dot(matrix, invmatrix))"
   ]
  },
  {
   "cell_type": "code",
   "execution_count": 26,
   "id": "c3933c02-af27-4e0c-9195-b6ed8f55f328",
   "metadata": {},
   "outputs": [
    {
     "name": "stdout",
     "output_type": "stream",
     "text": [
      "the solution X: \n",
      " [1. 2.]\n"
     ]
    }
   ],
   "source": [
    "#assignment solve for the following linear equatuin: 2x+3y=8, 4x+y=6\n",
    "#AX= B => X= A^-1B\n",
    "A= np.array([\n",
    "    [2,3],\n",
    "    [4,1]\n",
    "])\n",
    "\n",
    "B= np.array([8,6])\n",
    "\n",
    "X= np.dot(np.linalg.inv(A), B)\n",
    "\n",
    "print(\"the solution X: \\n\", X)\n",
    "#verify by pluging into the given equation i.e 2(1) + 3(2)= 8 and 4(1) + 2= 6 hence solution matrix is confirmend"
   ]
  },
  {
   "cell_type": "code",
   "execution_count": null,
   "id": "558558f1-8304-44b9-b584-b9070005fc3d",
   "metadata": {},
   "outputs": [],
   "source": [
    "#assignment normalise a 2d array by subrtacting the me"
   ]
  }
 ],
 "metadata": {
  "kernelspec": {
   "display_name": "Python 3 (ipykernel)",
   "language": "python",
   "name": "python3"
  },
  "language_info": {
   "codemirror_mode": {
    "name": "ipython",
    "version": 3
   },
   "file_extension": ".py",
   "mimetype": "text/x-python",
   "name": "python",
   "nbconvert_exporter": "python",
   "pygments_lexer": "ipython3",
   "version": "3.10.0"
  }
 },
 "nbformat": 4,
 "nbformat_minor": 5
}
